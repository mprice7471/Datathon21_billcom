{
 "cells": [
  {
   "cell_type": "code",
   "execution_count": 1,
   "metadata": {},
   "outputs": [],
   "source": [
    "import pandas as pd\n",
    "import difflib\n",
    "import numpy as np\n",
    "import re"
   ]
  },
  {
   "cell_type": "code",
   "execution_count": 2,
   "metadata": {},
   "outputs": [],
   "source": [
    "data = pd.read_csv('/Users/christophermccarthy/Documents/datathon_2021/Purchase_Card_Transactions.csv')\n",
    "ranges = pd.read_csv('/Users/christophermccarthy/Documents/datathon_2021/iso18245_ranges.csv')\n",
    "mcc_codes = pd.read_csv('/Users/christophermccarthy/Documents/datathon_2021/visa_list.csv')"
   ]
  },
  {
   "cell_type": "code",
   "execution_count": null,
   "metadata": {},
   "outputs": [],
   "source": [
    "# GET GROUPS\n",
    "\n",
    "ranges.index = pd.IntervalIndex.from_arrays(ranges['MCC START'],ranges['MCC END'],closed='both')\n",
    "mcc_codes['GROUP'] = mcc_codes['MCC'].apply(lambda x : ranges.iloc[ranges.index.get_loc(x)]['DESCRIPTION']\n",
    "                                           )"
   ]
  },
  {
   "cell_type": "code",
   "execution_count": null,
   "metadata": {},
   "outputs": [],
   "source": [
    "#Lower Case\n",
    "def strip_punc(x):\n",
    "    x = str(x)\n",
    "    x = x.replace(\"&\", 'and')\n",
    "    x = re.sub(r'[^\\w\\s]','',x)\n",
    "    x = x.replace(\" \", '')\n",
    "    x = x.replace(\"shop\", 'store')\n",
    "    return x\n",
    "\n",
    "mcc_codes['DESCRIPTION'] = mcc_codes.DESCRIPTION.str.lower()\n",
    "data['MCC DESCRIPTION'] = data.DESCRIPTION.str.lower()\n",
    "\n",
    "mcc_codes['DESCRIPTION'] = mcc_codes.DESCRIPTION.apply(lambda x : strip_punc(x))\n",
    "data['MCC DESCRIPTION'] = data.DESCRIPTION.(lambda x : strip_punc(x))\n",
    "\n",
    "mcc_codes = mcc_codes.set_index('DESCRIPTION')\n"
   ]
  },
  {
   "cell_type": "code",
   "execution_count": null,
   "metadata": {},
   "outputs": [],
   "source": [
    "# Get close matches\n",
    "def fix_shitty_format(s):\n",
    "    ret_dict = {}\n",
    "    for code in s:\n",
    "        close_matches = difflib.get_close_matches(code, mcc_codes.index)\n",
    "        if len(close_matches) != 0:\n",
    "            ret_dict[code] = close_matches[0]\n",
    "        else:\n",
    "            ret_dict[code] = ''\n",
    "    return ret_dict\n",
    "\n",
    "fix_dict = fix_shitty_format(pd.Series(data.DESCRIPTION.unique()))\n",
    "data['join_key'] == data.DESCRIPTION.apply(lambda x : fix_dict[x])"
   ]
  },
  {
   "cell_type": "code",
   "execution_count": null,
   "metadata": {},
   "outputs": [],
   "source": [
    "data_fixed = data.join(mcc_codes, on = 'join_key')"
   ]
  },
  {
   "cell_type": "code",
   "execution_count": null,
   "metadata": {},
   "outputs": [],
   "source": []
  }
 ],
 "metadata": {
  "kernelspec": {
   "display_name": "Python 3",
   "language": "python",
   "name": "python3"
  },
  "language_info": {
   "codemirror_mode": {
    "name": "ipython",
    "version": 3
   },
   "file_extension": ".py",
   "mimetype": "text/x-python",
   "name": "python",
   "nbconvert_exporter": "python",
   "pygments_lexer": "ipython3",
   "version": "3.8.5"
  }
 },
 "nbformat": 4,
 "nbformat_minor": 4
}
