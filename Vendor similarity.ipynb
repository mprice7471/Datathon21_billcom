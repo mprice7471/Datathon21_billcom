{
 "cells": [
  {
   "cell_type": "code",
   "execution_count": 8,
   "metadata": {
    "ExecuteTime": {
     "end_time": "2021-02-06T17:48:31.333722Z",
     "start_time": "2021-02-06T17:48:31.109304Z"
    }
   },
   "outputs": [],
   "source": [
    "import numpy as np\n",
    "import pandas as pd\n",
    "import datetime as dt\n",
    "import matplotlib.pyplot as plt"
   ]
  },
  {
   "cell_type": "code",
   "execution_count": 9,
   "metadata": {
    "ExecuteTime": {
     "end_time": "2021-02-06T17:48:32.613355Z",
     "start_time": "2021-02-06T17:48:31.618849Z"
    }
   },
   "outputs": [],
   "source": [
    "data = pd.read_csv('data_with_groups.csv')"
   ]
  },
  {
   "cell_type": "code",
   "execution_count": 10,
   "metadata": {
    "ExecuteTime": {
     "end_time": "2021-02-06T17:48:32.688083Z",
     "start_time": "2021-02-06T17:48:32.674122Z"
    }
   },
   "outputs": [
    {
     "data": {
      "text/html": [
       "<div>\n",
       "<style scoped>\n",
       "    .dataframe tbody tr th:only-of-type {\n",
       "        vertical-align: middle;\n",
       "    }\n",
       "\n",
       "    .dataframe tbody tr th {\n",
       "        vertical-align: top;\n",
       "    }\n",
       "\n",
       "    .dataframe thead th {\n",
       "        text-align: right;\n",
       "    }\n",
       "</style>\n",
       "<table border=\"1\" class=\"dataframe\">\n",
       "  <thead>\n",
       "    <tr style=\"text-align: right;\">\n",
       "      <th></th>\n",
       "      <th>Unnamed: 0</th>\n",
       "      <th>OBJECTID</th>\n",
       "      <th>AGENCY</th>\n",
       "      <th>TRANSACTION_DATE</th>\n",
       "      <th>TRANSACTION_AMOUNT</th>\n",
       "      <th>VENDOR_NAME</th>\n",
       "      <th>VENDOR_STATE_PROVINCE</th>\n",
       "      <th>MCC_DESCRIPTION</th>\n",
       "      <th>join_key</th>\n",
       "      <th>MCC</th>\n",
       "      <th>GROUP</th>\n",
       "    </tr>\n",
       "  </thead>\n",
       "  <tbody>\n",
       "    <tr>\n",
       "      <th>0</th>\n",
       "      <td>0</td>\n",
       "      <td>2</td>\n",
       "      <td>Department of Mental Health</td>\n",
       "      <td>2009/01/05 05:00:00+00</td>\n",
       "      <td>229.50</td>\n",
       "      <td>WW GRAINGER 912</td>\n",
       "      <td>DC</td>\n",
       "      <td>industrialsuppliesnotelsewhereclassified</td>\n",
       "      <td>industrialsuppliesnotelsewhereclassified</td>\n",
       "      <td>5085.0</td>\n",
       "      <td>Retail outlets</td>\n",
       "    </tr>\n",
       "    <tr>\n",
       "      <th>1</th>\n",
       "      <td>1</td>\n",
       "      <td>3</td>\n",
       "      <td>District Department of Transportation</td>\n",
       "      <td>2009/01/05 05:00:00+00</td>\n",
       "      <td>3147.33</td>\n",
       "      <td>BRANCH SUPPLY</td>\n",
       "      <td>DC</td>\n",
       "      <td>stationeryofficeandschoolsupplystores</td>\n",
       "      <td>stationerystoresofficeandschoolsupplystores</td>\n",
       "      <td>5943.0</td>\n",
       "      <td>Miscellaneous outlets</td>\n",
       "    </tr>\n",
       "    <tr>\n",
       "      <th>2</th>\n",
       "      <td>2</td>\n",
       "      <td>4</td>\n",
       "      <td>Department of  Youth Rehabilitation Services</td>\n",
       "      <td>2009/01/05 05:00:00+00</td>\n",
       "      <td>54.00</td>\n",
       "      <td>VIDEO MONITORING SRVCS</td>\n",
       "      <td>NY</td>\n",
       "      <td>motionpicturesvideotapeproductionanddistribution</td>\n",
       "      <td>motionpictureandvideotapeproductionanddistribu...</td>\n",
       "      <td>7829.0</td>\n",
       "      <td>Amusement and entertainment</td>\n",
       "    </tr>\n",
       "    <tr>\n",
       "      <th>3</th>\n",
       "      <td>3</td>\n",
       "      <td>5</td>\n",
       "      <td>Office of Employee Appeals</td>\n",
       "      <td>2009/01/05 05:00:00+00</td>\n",
       "      <td>137.35</td>\n",
       "      <td>STAPLES       00102186</td>\n",
       "      <td>DC</td>\n",
       "      <td>stationeryofficesuppliesprintingwritingpaper</td>\n",
       "      <td>stationeryofficesuppliesprintingandwritingpaper</td>\n",
       "      <td>5111.0</td>\n",
       "      <td>Retail outlets</td>\n",
       "    </tr>\n",
       "    <tr>\n",
       "      <th>4</th>\n",
       "      <td>4</td>\n",
       "      <td>6</td>\n",
       "      <td>Office of Police Complaints</td>\n",
       "      <td>2009/01/06 05:00:00+00</td>\n",
       "      <td>1340.80</td>\n",
       "      <td>FAITH MGMT CONSULTING</td>\n",
       "      <td>DC</td>\n",
       "      <td>stationeryofficeandschoolsupplystores</td>\n",
       "      <td>stationerystoresofficeandschoolsupplystores</td>\n",
       "      <td>5943.0</td>\n",
       "      <td>Miscellaneous outlets</td>\n",
       "    </tr>\n",
       "  </tbody>\n",
       "</table>\n",
       "</div>"
      ],
      "text/plain": [
       "   Unnamed: 0  OBJECTID                                        AGENCY  \\\n",
       "0           0         2                   Department of Mental Health   \n",
       "1           1         3         District Department of Transportation   \n",
       "2           2         4  Department of  Youth Rehabilitation Services   \n",
       "3           3         5                    Office of Employee Appeals   \n",
       "4           4         6                   Office of Police Complaints   \n",
       "\n",
       "         TRANSACTION_DATE  TRANSACTION_AMOUNT             VENDOR_NAME  \\\n",
       "0  2009/01/05 05:00:00+00              229.50         WW GRAINGER 912   \n",
       "1  2009/01/05 05:00:00+00             3147.33           BRANCH SUPPLY   \n",
       "2  2009/01/05 05:00:00+00               54.00  VIDEO MONITORING SRVCS   \n",
       "3  2009/01/05 05:00:00+00              137.35  STAPLES       00102186   \n",
       "4  2009/01/06 05:00:00+00             1340.80   FAITH MGMT CONSULTING   \n",
       "\n",
       "  VENDOR_STATE_PROVINCE                                   MCC_DESCRIPTION  \\\n",
       "0                    DC          industrialsuppliesnotelsewhereclassified   \n",
       "1                    DC             stationeryofficeandschoolsupplystores   \n",
       "2                    NY  motionpicturesvideotapeproductionanddistribution   \n",
       "3                    DC      stationeryofficesuppliesprintingwritingpaper   \n",
       "4                    DC             stationeryofficeandschoolsupplystores   \n",
       "\n",
       "                                            join_key     MCC  \\\n",
       "0           industrialsuppliesnotelsewhereclassified  5085.0   \n",
       "1        stationerystoresofficeandschoolsupplystores  5943.0   \n",
       "2  motionpictureandvideotapeproductionanddistribu...  7829.0   \n",
       "3    stationeryofficesuppliesprintingandwritingpaper  5111.0   \n",
       "4        stationerystoresofficeandschoolsupplystores  5943.0   \n",
       "\n",
       "                         GROUP  \n",
       "0               Retail outlets  \n",
       "1        Miscellaneous outlets  \n",
       "2  Amusement and entertainment  \n",
       "3               Retail outlets  \n",
       "4        Miscellaneous outlets  "
      ]
     },
     "execution_count": 10,
     "metadata": {},
     "output_type": "execute_result"
    }
   ],
   "source": [
    "data.head()"
   ]
  },
  {
   "cell_type": "markdown",
   "metadata": {},
   "source": [
    "REMOVE NUMBERS IN VENDOR NAME"
   ]
  },
  {
   "cell_type": "code",
   "execution_count": 11,
   "metadata": {
    "ExecuteTime": {
     "end_time": "2021-02-06T17:48:33.339111Z",
     "start_time": "2021-02-06T17:48:32.746926Z"
    }
   },
   "outputs": [],
   "source": [
    "#data[\"VENDOR_NAME\"] = data[\"VENDOR_NAME\"].str.replace('\\d+', '')"
   ]
  },
  {
   "cell_type": "code",
   "execution_count": 12,
   "metadata": {
    "ExecuteTime": {
     "end_time": "2021-02-06T17:48:41.042218Z",
     "start_time": "2021-02-06T17:48:33.400826Z"
    }
   },
   "outputs": [],
   "source": [
    "data['TRANSACTION_DATE_2'] = data['TRANSACTION_DATE'].apply(lambda x: \n",
    "                                    dt.datetime.strptime(x,'%Y/%m/%d %H:%M:%S+%f'))\n"
   ]
  },
  {
   "cell_type": "code",
   "execution_count": 13,
   "metadata": {
    "ExecuteTime": {
     "end_time": "2021-02-06T17:48:45.556511Z",
     "start_time": "2021-02-06T17:48:41.127854Z"
    }
   },
   "outputs": [],
   "source": [
    "data['MONTH'] = data['TRANSACTION_DATE_2'].apply(lambda x: x.month)\n",
    "data['YEAR'] = data['TRANSACTION_DATE_2'].apply(lambda x: x.year)\n"
   ]
  },
  {
   "cell_type": "code",
   "execution_count": 51,
   "metadata": {
    "ExecuteTime": {
     "end_time": "2021-02-06T18:01:15.159474Z",
     "start_time": "2021-02-06T18:01:14.875654Z"
    }
   },
   "outputs": [],
   "source": [
    "new4 = data.groupby(['AGENCY',\"MONTH\",\"YEAR\"]).count().groupby(['AGENCY']).agg({\"TRANSACTION_AMOUNT\" : ['mean']})"
   ]
  },
  {
   "cell_type": "code",
   "execution_count": 52,
   "metadata": {
    "ExecuteTime": {
     "end_time": "2021-02-06T18:01:16.261467Z",
     "start_time": "2021-02-06T18:01:15.985199Z"
    }
   },
   "outputs": [
    {
     "ename": "AttributeError",
     "evalue": "module 'matplotlib.axes' has no attribute 'set_xlabell'",
     "output_type": "error",
     "traceback": [
      "\u001b[1;31m---------------------------------------------------------------------------\u001b[0m",
      "\u001b[1;31mAttributeError\u001b[0m                            Traceback (most recent call last)",
      "\u001b[1;32m<ipython-input-52-79b08b7ecb16>\u001b[0m in \u001b[0;36m<module>\u001b[1;34m\u001b[0m\n\u001b[0;32m      5\u001b[0m                             alpha=0.7, rwidth=0.85)\n\u001b[0;32m      6\u001b[0m \u001b[0mplt\u001b[0m\u001b[1;33m.\u001b[0m\u001b[0mtitle\u001b[0m\u001b[1;33m(\u001b[0m\u001b[1;34m'Histogram of Mean per Month'\u001b[0m\u001b[1;33m)\u001b[0m\u001b[1;33m\u001b[0m\u001b[1;33m\u001b[0m\u001b[0m\n\u001b[1;32m----> 7\u001b[1;33m \u001b[0mAxes\u001b[0m\u001b[1;33m.\u001b[0m\u001b[0mset_xlabell\u001b[0m\u001b[1;33m(\u001b[0m\u001b[1;34m'Number of Agencies'\u001b[0m\u001b[1;33m)\u001b[0m\u001b[1;33m\u001b[0m\u001b[1;33m\u001b[0m\u001b[0m\n\u001b[0m",
      "\u001b[1;31mAttributeError\u001b[0m: module 'matplotlib.axes' has no attribute 'set_xlabell'"
     ]
    },
    {
     "data": {
      "image/png": "[encoded data removed]",
      "text/plain": [
       "<Figure size 432x288 with 1 Axes>"
      ]
     },
     "metadata": {
      "needs_background": "light"
     },
     "output_type": "display_data"
    }
   ],
   "source": [
    "import matplotlib.axes as Axes\n",
    "mean_spent_per_month = new4[\"TRANSACTION_AMOUNT\",'mean'] #data.groupby(['AGENCY', 'MONTH', 'YEAR']).mean().TRANSACTION_AMOUNT\n",
    "binds = [x*10000 for x in range(0,10)]\n",
    "plt.hist(mean_spent_per_month,bins = binds, color='#FF8C00',\n",
    "                            alpha=0.7, rwidth=0.85)\n",
    "plt.title('Histogram of Mean per Month')\n",
    "Axes.set_xlabell('Number of Agencies')\n"
   ]
  },
  {
   "cell_type": "code",
   "execution_count": 59,
   "metadata": {
    "ExecuteTime": {
     "end_time": "2021-02-06T18:04:53.059478Z",
     "start_time": "2021-02-06T18:04:52.741796Z"
    }
   },
   "outputs": [
    {
     "data": {
      "text/plain": [
       "Text(0.5, 1.0, 'Histogram of Orders per Month')"
      ]
     },
     "execution_count": 59,
     "metadata": {},
     "output_type": "execute_result"
    },
    {
     "data": {
      "image/png": "[encoded data removed]",
      "text/plain": [
       "<Figure size 432x288 with 1 Axes>"
      ]
     },
     "metadata": {
      "needs_background": "light"
     },
     "output_type": "display_data"
    }
   ],
   "source": [
    "\n",
    "mean_spent_per_month = new4[\"TRANSACTION_AMOUNT\",'mean']\n",
    "binds = [x*10 for x in range(0,20)]\n",
    "plt.hist(mean_spent_per_month, bins = binds, color='#FF8C00',\n",
    "                            alpha=0.7, rwidth=0.85)\n",
    "plt.title('Histogram of Orders per Month')"
   ]
  },
  {
   "cell_type": "code",
   "execution_count": 50,
   "metadata": {
    "ExecuteTime": {
     "end_time": "2021-02-06T05:37:05.309522Z",
     "start_time": "2021-02-06T05:37:04.907092Z"
    }
   },
   "outputs": [
    {
     "data": {
      "text/html": [
       "<div>\n",
       "<style scoped>\n",
       "    .dataframe tbody tr th:only-of-type {\n",
       "        vertical-align: middle;\n",
       "    }\n",
       "\n",
       "    .dataframe tbody tr th {\n",
       "        vertical-align: top;\n",
       "    }\n",
       "\n",
       "    .dataframe thead tr th {\n",
       "        text-align: left;\n",
       "    }\n",
       "\n",
       "    .dataframe thead tr:last-of-type th {\n",
       "        text-align: right;\n",
       "    }\n",
       "</style>\n",
       "<table border=\"1\" class=\"dataframe\">\n",
       "  <thead>\n",
       "    <tr>\n",
       "      <th></th>\n",
       "      <th></th>\n",
       "      <th colspan=\"2\" halign=\"left\">TRANSACTION_AMOUNT</th>\n",
       "    </tr>\n",
       "    <tr>\n",
       "      <th></th>\n",
       "      <th></th>\n",
       "      <th>mean</th>\n",
       "      <th>count</th>\n",
       "    </tr>\n",
       "    <tr>\n",
       "      <th>GROUP</th>\n",
       "      <th>VENDOR_NAME</th>\n",
       "      <th></th>\n",
       "      <th></th>\n",
       "    </tr>\n",
       "  </thead>\n",
       "  <tbody>\n",
       "    <tr>\n",
       "      <th rowspan=\"5\" valign=\"top\">Agricultural services</th>\n",
       "      <th>ADAMS MORGAN ANIMAL CL</th>\n",
       "      <td>1163.677727</td>\n",
       "      <td>22</td>\n",
       "    </tr>\n",
       "    <tr>\n",
       "      <th>ADAMS MORGAN ANIMAL HO</th>\n",
       "      <td>922.299231</td>\n",
       "      <td>13</td>\n",
       "    </tr>\n",
       "    <tr>\n",
       "      <th>ADAMS MORGAN ANIMALQPS</th>\n",
       "      <td>1158.400000</td>\n",
       "      <td>1</td>\n",
       "    </tr>\n",
       "    <tr>\n",
       "      <th>ADIRONDACK TREE EXPERT</th>\n",
       "      <td>188187.500000</td>\n",
       "      <td>2</td>\n",
       "    </tr>\n",
       "    <tr>\n",
       "      <th>AGGTRANS</th>\n",
       "      <td>4982.310000</td>\n",
       "      <td>1</td>\n",
       "    </tr>\n",
       "    <tr>\n",
       "      <th>...</th>\n",
       "      <th>...</th>\n",
       "      <td>...</td>\n",
       "      <td>...</td>\n",
       "    </tr>\n",
       "    <tr>\n",
       "      <th rowspan=\"5\" valign=\"top\">Utilities</th>\n",
       "      <th>WWW.LOGMEIN.COM</th>\n",
       "      <td>2126.911667</td>\n",
       "      <td>12</td>\n",
       "    </tr>\n",
       "    <tr>\n",
       "      <th>WWW.SEIDIO.COM</th>\n",
       "      <td>1038.060000</td>\n",
       "      <td>1</td>\n",
       "    </tr>\n",
       "    <tr>\n",
       "      <th>XCELTWRCNTR</th>\n",
       "      <td>726.000000</td>\n",
       "      <td>1</td>\n",
       "    </tr>\n",
       "    <tr>\n",
       "      <th>ZAGG</th>\n",
       "      <td>429.173750</td>\n",
       "      <td>16</td>\n",
       "    </tr>\n",
       "    <tr>\n",
       "      <th>ZAPEVENT EVENT REG</th>\n",
       "      <td>1200.000000</td>\n",
       "      <td>1</td>\n",
       "    </tr>\n",
       "  </tbody>\n",
       "</table>\n",
       "<p>39034 rows × 2 columns</p>\n",
       "</div>"
      ],
      "text/plain": [
       "                                             TRANSACTION_AMOUNT      \n",
       "                                                           mean count\n",
       "GROUP                 VENDOR_NAME                                    \n",
       "Agricultural services ADAMS MORGAN ANIMAL CL        1163.677727    22\n",
       "                      ADAMS MORGAN ANIMAL HO         922.299231    13\n",
       "                      ADAMS MORGAN ANIMALQPS        1158.400000     1\n",
       "                      ADIRONDACK TREE EXPERT      188187.500000     2\n",
       "                      AGGTRANS                      4982.310000     1\n",
       "...                                                         ...   ...\n",
       "Utilities             WWW.LOGMEIN.COM               2126.911667    12\n",
       "                      WWW.SEIDIO.COM                1038.060000     1\n",
       "                      XCELTWRCNTR                    726.000000     1\n",
       "                      ZAGG                           429.173750    16\n",
       "                      ZAPEVENT EVENT REG            1200.000000     1\n",
       "\n",
       "[39034 rows x 2 columns]"
      ]
     },
     "execution_count": 50,
     "metadata": {},
     "output_type": "execute_result"
    }
   ],
   "source": [
    "#mean and count per month\n",
    "data.groupby(['GROUP', 'VENDOR_NAME',\"MONTH\",\"YEAR\"]).sum().groupby(['GROUP','VENDOR_NAME']).agg({\"TRANSACTION_AMOUNT\" : ['mean','count']})"
   ]
  },
  {
   "cell_type": "code",
   "execution_count": 49,
   "metadata": {
    "ExecuteTime": {
     "end_time": "2021-02-06T05:36:17.696139Z",
     "start_time": "2021-02-06T05:36:17.612366Z"
    }
   },
   "outputs": [
    {
     "data": {
      "text/plain": [
       "1163.6777272727272"
      ]
     },
     "execution_count": 49,
     "metadata": {},
     "output_type": "execute_result"
    }
   ],
   "source": [
    "(data[data.VENDOR_NAME == \"ADAMS MORGAN ANIMAL CL\"].groupby(['GROUP', 'VENDOR_NAME',\"MONTH\",\"YEAR\"]).sum())[\"TRANSACTION_AMOUNT\"].mean()\n",
    "#test[test.iloc(\"VENDOR_NAME\" == \"ADAMS MORGAN ANIMAL CL\")].mean()"
   ]
  },
  {
   "cell_type": "code",
   "execution_count": 54,
   "metadata": {
    "ExecuteTime": {
     "end_time": "2021-02-06T05:42:55.491388Z",
     "start_time": "2021-02-06T05:42:55.271973Z"
    }
   },
   "outputs": [
    {
     "data": {
      "text/html": [
       "<div>\n",
       "<style scoped>\n",
       "    .dataframe tbody tr th:only-of-type {\n",
       "        vertical-align: middle;\n",
       "    }\n",
       "\n",
       "    .dataframe tbody tr th {\n",
       "        vertical-align: top;\n",
       "    }\n",
       "\n",
       "    .dataframe thead tr th {\n",
       "        text-align: left;\n",
       "    }\n",
       "\n",
       "    .dataframe thead tr:last-of-type th {\n",
       "        text-align: right;\n",
       "    }\n",
       "</style>\n",
       "<table border=\"1\" class=\"dataframe\">\n",
       "  <thead>\n",
       "    <tr>\n",
       "      <th></th>\n",
       "      <th></th>\n",
       "      <th colspan=\"3\" halign=\"left\">TRANSACTION_AMOUNT</th>\n",
       "    </tr>\n",
       "    <tr>\n",
       "      <th></th>\n",
       "      <th></th>\n",
       "      <th>sum</th>\n",
       "      <th>count</th>\n",
       "      <th>average</th>\n",
       "    </tr>\n",
       "    <tr>\n",
       "      <th>GROUP</th>\n",
       "      <th>VENDOR_NAME</th>\n",
       "      <th></th>\n",
       "      <th></th>\n",
       "      <th></th>\n",
       "    </tr>\n",
       "  </thead>\n",
       "  <tbody>\n",
       "    <tr>\n",
       "      <th rowspan=\"5\" valign=\"top\">Agricultural services</th>\n",
       "      <th>ADAMS MORGAN ANIMAL CL</th>\n",
       "      <td>25600.91</td>\n",
       "      <td>25</td>\n",
       "      <td>1024.036400</td>\n",
       "    </tr>\n",
       "    <tr>\n",
       "      <th>ADAMS MORGAN ANIMAL HO</th>\n",
       "      <td>11989.89</td>\n",
       "      <td>21</td>\n",
       "      <td>570.947143</td>\n",
       "    </tr>\n",
       "    <tr>\n",
       "      <th>ADAMS MORGAN ANIMALQPS</th>\n",
       "      <td>1158.40</td>\n",
       "      <td>2</td>\n",
       "      <td>579.200000</td>\n",
       "    </tr>\n",
       "    <tr>\n",
       "      <th>ADIRONDACK TREE EXPERT</th>\n",
       "      <td>376375.00</td>\n",
       "      <td>9</td>\n",
       "      <td>41819.444444</td>\n",
       "    </tr>\n",
       "    <tr>\n",
       "      <th>AGGTRANS</th>\n",
       "      <td>4982.31</td>\n",
       "      <td>3</td>\n",
       "      <td>1660.770000</td>\n",
       "    </tr>\n",
       "  </tbody>\n",
       "</table>\n",
       "</div>"
      ],
      "text/plain": [
       "                                             TRANSACTION_AMOUNT        \\\n",
       "                                                            sum count   \n",
       "GROUP                 VENDOR_NAME                                       \n",
       "Agricultural services ADAMS MORGAN ANIMAL CL           25600.91    25   \n",
       "                      ADAMS MORGAN ANIMAL HO           11989.89    21   \n",
       "                      ADAMS MORGAN ANIMALQPS            1158.40     2   \n",
       "                      ADIRONDACK TREE EXPERT          376375.00     9   \n",
       "                      AGGTRANS                          4982.31     3   \n",
       "\n",
       "                                                            \n",
       "                                                   average  \n",
       "GROUP                 VENDOR_NAME                           \n",
       "Agricultural services ADAMS MORGAN ANIMAL CL   1024.036400  \n",
       "                      ADAMS MORGAN ANIMAL HO    570.947143  \n",
       "                      ADAMS MORGAN ANIMALQPS    579.200000  \n",
       "                      ADIRONDACK TREE EXPERT  41819.444444  \n",
       "                      AGGTRANS                 1660.770000  "
      ]
     },
     "execution_count": 54,
     "metadata": {},
     "output_type": "execute_result"
    }
   ],
   "source": [
    "#gives sum and number of orders in total per vendor to get average cost per order \n",
    "new = data.groupby(['GROUP', 'VENDOR_NAME']).agg({\"TRANSACTION_AMOUNT\" : ['sum','count']})\n",
    "new[\"TRANSACTION_AMOUNT\",\"average\"] = new[\"TRANSACTION_AMOUNT\",\"sum\"]/new[\"TRANSACTION_AMOUNT\",\"count\"]\n",
    "new.head()"
   ]
  },
  {
   "cell_type": "code",
   "execution_count": 71,
   "metadata": {
    "ExecuteTime": {
     "end_time": "2021-02-06T06:08:45.420890Z",
     "start_time": "2021-02-06T06:08:45.019457Z"
    }
   },
   "outputs": [],
   "source": [
    "import numpy as np\n",
    "\n",
    "#(data.groupby(['GROUP', 'VENDOR_NAME',\"YEAR\",\"MONTH\"]).agg({\"TRANSACTION_AMOUNT\" : ['sum','count']}))\n",
    "new2 = data.groupby(['GROUP', 'VENDOR_NAME']).agg({'TRANSACTION_DATE_2' : ['min','max']})\n",
    "\n",
    "#find difference between min and max \n",
    "new2[\"TRANSACTION_DATE_2\", \"time_diff\"] = (new2[\"TRANSACTION_DATE_2\", \"max\"] - new2[\"TRANSACTION_DATE_2\", \"min\"])/np.timedelta64(1, 'M')\n",
    "\n",
    "#round up months and put zeros as 1\n",
    "new2[\"TRANSACTION_DATE_2\", \"time_diff\"] = new2[\"TRANSACTION_DATE_2\", \"time_diff\"].apply(np.ceil).replace(0,1)\n"
   ]
  },
  {
   "cell_type": "code",
   "execution_count": 72,
   "metadata": {
    "ExecuteTime": {
     "end_time": "2021-02-06T06:08:51.872872Z",
     "start_time": "2021-02-06T06:08:51.849933Z"
    }
   },
   "outputs": [
    {
     "data": {
      "text/html": [
       "<div>\n",
       "<style scoped>\n",
       "    .dataframe tbody tr th:only-of-type {\n",
       "        vertical-align: middle;\n",
       "    }\n",
       "\n",
       "    .dataframe tbody tr th {\n",
       "        vertical-align: top;\n",
       "    }\n",
       "\n",
       "    .dataframe thead tr th {\n",
       "        text-align: left;\n",
       "    }\n",
       "\n",
       "    .dataframe thead tr:last-of-type th {\n",
       "        text-align: right;\n",
       "    }\n",
       "</style>\n",
       "<table border=\"1\" class=\"dataframe\">\n",
       "  <thead>\n",
       "    <tr>\n",
       "      <th></th>\n",
       "      <th></th>\n",
       "      <th colspan=\"3\" halign=\"left\">TRANSACTION_DATE_2</th>\n",
       "    </tr>\n",
       "    <tr>\n",
       "      <th></th>\n",
       "      <th></th>\n",
       "      <th>min</th>\n",
       "      <th>max</th>\n",
       "      <th>time_diff</th>\n",
       "    </tr>\n",
       "    <tr>\n",
       "      <th>GROUP</th>\n",
       "      <th>VENDOR_NAME</th>\n",
       "      <th></th>\n",
       "      <th></th>\n",
       "      <th></th>\n",
       "    </tr>\n",
       "  </thead>\n",
       "  <tbody>\n",
       "    <tr>\n",
       "      <th rowspan=\"5\" valign=\"top\">Agricultural services</th>\n",
       "      <th>ADAMS MORGAN ANIMAL CL</th>\n",
       "      <td>2013-11-21 05:00:00</td>\n",
       "      <td>2020-10-23 04:00:00</td>\n",
       "      <td>84.0</td>\n",
       "    </tr>\n",
       "    <tr>\n",
       "      <th>ADAMS MORGAN ANIMAL HO</th>\n",
       "      <td>2009-10-13 04:00:00</td>\n",
       "      <td>2012-09-21 04:00:00</td>\n",
       "      <td>36.0</td>\n",
       "    </tr>\n",
       "    <tr>\n",
       "      <th>ADAMS MORGAN ANIMALQPS</th>\n",
       "      <td>2010-10-04 04:00:00</td>\n",
       "      <td>2010-10-12 04:00:00</td>\n",
       "      <td>1.0</td>\n",
       "    </tr>\n",
       "    <tr>\n",
       "      <th>ADIRONDACK TREE EXPERT</th>\n",
       "      <td>2012-07-16 04:00:00</td>\n",
       "      <td>2012-11-08 05:00:00</td>\n",
       "      <td>4.0</td>\n",
       "    </tr>\n",
       "    <tr>\n",
       "      <th>AGGTRANS</th>\n",
       "      <td>2016-12-09 05:00:00</td>\n",
       "      <td>2016-12-12 05:00:00</td>\n",
       "      <td>1.0</td>\n",
       "    </tr>\n",
       "    <tr>\n",
       "      <th>...</th>\n",
       "      <th>...</th>\n",
       "      <td>...</td>\n",
       "      <td>...</td>\n",
       "      <td>...</td>\n",
       "    </tr>\n",
       "    <tr>\n",
       "      <th rowspan=\"5\" valign=\"top\">Utilities</th>\n",
       "      <th>WWW.LOGMEIN.COM</th>\n",
       "      <td>2011-10-24 04:00:00</td>\n",
       "      <td>2016-04-14 04:00:00</td>\n",
       "      <td>54.0</td>\n",
       "    </tr>\n",
       "    <tr>\n",
       "      <th>WWW.SEIDIO.COM</th>\n",
       "      <td>2009-12-24 05:00:00</td>\n",
       "      <td>2009-12-24 05:00:00</td>\n",
       "      <td>1.0</td>\n",
       "    </tr>\n",
       "    <tr>\n",
       "      <th>XCELTWRCNTR</th>\n",
       "      <td>2010-11-02 04:00:00</td>\n",
       "      <td>2010-11-23 05:00:00</td>\n",
       "      <td>1.0</td>\n",
       "    </tr>\n",
       "    <tr>\n",
       "      <th>ZAGG</th>\n",
       "      <td>2011-08-12 04:00:00</td>\n",
       "      <td>2013-03-26 04:00:00</td>\n",
       "      <td>20.0</td>\n",
       "    </tr>\n",
       "    <tr>\n",
       "      <th>ZAPEVENT EVENT REG</th>\n",
       "      <td>2014-04-18 04:00:00</td>\n",
       "      <td>2014-04-18 04:00:00</td>\n",
       "      <td>1.0</td>\n",
       "    </tr>\n",
       "  </tbody>\n",
       "</table>\n",
       "<p>39034 rows × 3 columns</p>\n",
       "</div>"
      ],
      "text/plain": [
       "                                              TRANSACTION_DATE_2  \\\n",
       "                                                             min   \n",
       "GROUP                 VENDOR_NAME                                  \n",
       "Agricultural services ADAMS MORGAN ANIMAL CL 2013-11-21 05:00:00   \n",
       "                      ADAMS MORGAN ANIMAL HO 2009-10-13 04:00:00   \n",
       "                      ADAMS MORGAN ANIMALQPS 2010-10-04 04:00:00   \n",
       "                      ADIRONDACK TREE EXPERT 2012-07-16 04:00:00   \n",
       "                      AGGTRANS               2016-12-09 05:00:00   \n",
       "...                                                          ...   \n",
       "Utilities             WWW.LOGMEIN.COM        2011-10-24 04:00:00   \n",
       "                      WWW.SEIDIO.COM         2009-12-24 05:00:00   \n",
       "                      XCELTWRCNTR            2010-11-02 04:00:00   \n",
       "                      ZAGG                   2011-08-12 04:00:00   \n",
       "                      ZAPEVENT EVENT REG     2014-04-18 04:00:00   \n",
       "\n",
       "                                                                            \n",
       "                                                             max time_diff  \n",
       "GROUP                 VENDOR_NAME                                           \n",
       "Agricultural services ADAMS MORGAN ANIMAL CL 2020-10-23 04:00:00      84.0  \n",
       "                      ADAMS MORGAN ANIMAL HO 2012-09-21 04:00:00      36.0  \n",
       "                      ADAMS MORGAN ANIMALQPS 2010-10-12 04:00:00       1.0  \n",
       "                      ADIRONDACK TREE EXPERT 2012-11-08 05:00:00       4.0  \n",
       "                      AGGTRANS               2016-12-12 05:00:00       1.0  \n",
       "...                                                          ...       ...  \n",
       "Utilities             WWW.LOGMEIN.COM        2016-04-14 04:00:00      54.0  \n",
       "                      WWW.SEIDIO.COM         2009-12-24 05:00:00       1.0  \n",
       "                      XCELTWRCNTR            2010-11-23 05:00:00       1.0  \n",
       "                      ZAGG                   2013-03-26 04:00:00      20.0  \n",
       "                      ZAPEVENT EVENT REG     2014-04-18 04:00:00       1.0  \n",
       "\n",
       "[39034 rows x 3 columns]"
      ]
     },
     "execution_count": 72,
     "metadata": {},
     "output_type": "execute_result"
    }
   ],
   "source": [
    "new2"
   ]
  },
  {
   "cell_type": "code",
   "execution_count": 82,
   "metadata": {
    "ExecuteTime": {
     "end_time": "2021-02-06T06:17:19.699741Z",
     "start_time": "2021-02-06T06:17:19.626931Z"
    }
   },
   "outputs": [
    {
     "data": {
      "text/html": [
       "<div>\n",
       "<style scoped>\n",
       "    .dataframe tbody tr th:only-of-type {\n",
       "        vertical-align: middle;\n",
       "    }\n",
       "\n",
       "    .dataframe tbody tr th {\n",
       "        vertical-align: top;\n",
       "    }\n",
       "\n",
       "    .dataframe thead tr th {\n",
       "        text-align: left;\n",
       "    }\n",
       "\n",
       "    .dataframe thead tr:last-of-type th {\n",
       "        text-align: right;\n",
       "    }\n",
       "</style>\n",
       "<table border=\"1\" class=\"dataframe\">\n",
       "  <thead>\n",
       "    <tr>\n",
       "      <th></th>\n",
       "      <th></th>\n",
       "      <th colspan=\"3\" halign=\"left\">TRANSACTION_AMOUNT</th>\n",
       "      <th colspan=\"3\" halign=\"left\">TRANSACTION_DATE_2</th>\n",
       "      <th colspan=\"2\" halign=\"left\">THINGS_WE_WANT</th>\n",
       "    </tr>\n",
       "    <tr>\n",
       "      <th></th>\n",
       "      <th></th>\n",
       "      <th>sum</th>\n",
       "      <th>count</th>\n",
       "      <th>average</th>\n",
       "      <th>min</th>\n",
       "      <th>max</th>\n",
       "      <th>time_diff</th>\n",
       "      <th>ORDERS_PER_MONTH</th>\n",
       "      <th>NET_MONEY_PER_MONTH</th>\n",
       "    </tr>\n",
       "    <tr>\n",
       "      <th>GROUP</th>\n",
       "      <th>VENDOR_NAME</th>\n",
       "      <th></th>\n",
       "      <th></th>\n",
       "      <th></th>\n",
       "      <th></th>\n",
       "      <th></th>\n",
       "      <th></th>\n",
       "      <th></th>\n",
       "      <th></th>\n",
       "    </tr>\n",
       "  </thead>\n",
       "  <tbody>\n",
       "    <tr>\n",
       "      <th rowspan=\"5\" valign=\"top\">Agricultural services</th>\n",
       "      <th>ADAMS MORGAN ANIMAL CL</th>\n",
       "      <td>25600.91</td>\n",
       "      <td>25</td>\n",
       "      <td>1024.036400</td>\n",
       "      <td>2013-11-21 05:00:00</td>\n",
       "      <td>2020-10-23 04:00:00</td>\n",
       "      <td>84.0</td>\n",
       "      <td>0.297619</td>\n",
       "      <td>304.772738</td>\n",
       "    </tr>\n",
       "    <tr>\n",
       "      <th>ADAMS MORGAN ANIMAL HO</th>\n",
       "      <td>11989.89</td>\n",
       "      <td>21</td>\n",
       "      <td>570.947143</td>\n",
       "      <td>2009-10-13 04:00:00</td>\n",
       "      <td>2012-09-21 04:00:00</td>\n",
       "      <td>36.0</td>\n",
       "      <td>0.583333</td>\n",
       "      <td>333.052500</td>\n",
       "    </tr>\n",
       "    <tr>\n",
       "      <th>ADAMS MORGAN ANIMALQPS</th>\n",
       "      <td>1158.40</td>\n",
       "      <td>2</td>\n",
       "      <td>579.200000</td>\n",
       "      <td>2010-10-04 04:00:00</td>\n",
       "      <td>2010-10-12 04:00:00</td>\n",
       "      <td>1.0</td>\n",
       "      <td>2.000000</td>\n",
       "      <td>1158.400000</td>\n",
       "    </tr>\n",
       "    <tr>\n",
       "      <th>ADIRONDACK TREE EXPERT</th>\n",
       "      <td>376375.00</td>\n",
       "      <td>9</td>\n",
       "      <td>41819.444444</td>\n",
       "      <td>2012-07-16 04:00:00</td>\n",
       "      <td>2012-11-08 05:00:00</td>\n",
       "      <td>4.0</td>\n",
       "      <td>2.250000</td>\n",
       "      <td>94093.750000</td>\n",
       "    </tr>\n",
       "    <tr>\n",
       "      <th>AGGTRANS</th>\n",
       "      <td>4982.31</td>\n",
       "      <td>3</td>\n",
       "      <td>1660.770000</td>\n",
       "      <td>2016-12-09 05:00:00</td>\n",
       "      <td>2016-12-12 05:00:00</td>\n",
       "      <td>1.0</td>\n",
       "      <td>3.000000</td>\n",
       "      <td>4982.310000</td>\n",
       "    </tr>\n",
       "    <tr>\n",
       "      <th>...</th>\n",
       "      <th>...</th>\n",
       "      <td>...</td>\n",
       "      <td>...</td>\n",
       "      <td>...</td>\n",
       "      <td>...</td>\n",
       "      <td>...</td>\n",
       "      <td>...</td>\n",
       "      <td>...</td>\n",
       "      <td>...</td>\n",
       "    </tr>\n",
       "    <tr>\n",
       "      <th rowspan=\"5\" valign=\"top\">Utilities</th>\n",
       "      <th>WWW.LOGMEIN.COM</th>\n",
       "      <td>25522.94</td>\n",
       "      <td>16</td>\n",
       "      <td>1595.183750</td>\n",
       "      <td>2011-10-24 04:00:00</td>\n",
       "      <td>2016-04-14 04:00:00</td>\n",
       "      <td>54.0</td>\n",
       "      <td>0.296296</td>\n",
       "      <td>472.647037</td>\n",
       "    </tr>\n",
       "    <tr>\n",
       "      <th>WWW.SEIDIO.COM</th>\n",
       "      <td>1038.06</td>\n",
       "      <td>1</td>\n",
       "      <td>1038.060000</td>\n",
       "      <td>2009-12-24 05:00:00</td>\n",
       "      <td>2009-12-24 05:00:00</td>\n",
       "      <td>1.0</td>\n",
       "      <td>1.000000</td>\n",
       "      <td>1038.060000</td>\n",
       "    </tr>\n",
       "    <tr>\n",
       "      <th>XCELTWRCNTR</th>\n",
       "      <td>726.00</td>\n",
       "      <td>2</td>\n",
       "      <td>363.000000</td>\n",
       "      <td>2010-11-02 04:00:00</td>\n",
       "      <td>2010-11-23 05:00:00</td>\n",
       "      <td>1.0</td>\n",
       "      <td>2.000000</td>\n",
       "      <td>726.000000</td>\n",
       "    </tr>\n",
       "    <tr>\n",
       "      <th>ZAGG</th>\n",
       "      <td>6866.78</td>\n",
       "      <td>32</td>\n",
       "      <td>214.586875</td>\n",
       "      <td>2011-08-12 04:00:00</td>\n",
       "      <td>2013-03-26 04:00:00</td>\n",
       "      <td>20.0</td>\n",
       "      <td>1.600000</td>\n",
       "      <td>343.339000</td>\n",
       "    </tr>\n",
       "    <tr>\n",
       "      <th>ZAPEVENT EVENT REG</th>\n",
       "      <td>1200.00</td>\n",
       "      <td>1</td>\n",
       "      <td>1200.000000</td>\n",
       "      <td>2014-04-18 04:00:00</td>\n",
       "      <td>2014-04-18 04:00:00</td>\n",
       "      <td>1.0</td>\n",
       "      <td>1.000000</td>\n",
       "      <td>1200.000000</td>\n",
       "    </tr>\n",
       "  </tbody>\n",
       "</table>\n",
       "<p>39034 rows × 8 columns</p>\n",
       "</div>"
      ],
      "text/plain": [
       "                                             TRANSACTION_AMOUNT        \\\n",
       "                                                            sum count   \n",
       "GROUP                 VENDOR_NAME                                       \n",
       "Agricultural services ADAMS MORGAN ANIMAL CL           25600.91    25   \n",
       "                      ADAMS MORGAN ANIMAL HO           11989.89    21   \n",
       "                      ADAMS MORGAN ANIMALQPS            1158.40     2   \n",
       "                      ADIRONDACK TREE EXPERT          376375.00     9   \n",
       "                      AGGTRANS                          4982.31     3   \n",
       "...                                                         ...   ...   \n",
       "Utilities             WWW.LOGMEIN.COM                  25522.94    16   \n",
       "                      WWW.SEIDIO.COM                    1038.06     1   \n",
       "                      XCELTWRCNTR                        726.00     2   \n",
       "                      ZAGG                              6866.78    32   \n",
       "                      ZAPEVENT EVENT REG                1200.00     1   \n",
       "\n",
       "                                                            \\\n",
       "                                                   average   \n",
       "GROUP                 VENDOR_NAME                            \n",
       "Agricultural services ADAMS MORGAN ANIMAL CL   1024.036400   \n",
       "                      ADAMS MORGAN ANIMAL HO    570.947143   \n",
       "                      ADAMS MORGAN ANIMALQPS    579.200000   \n",
       "                      ADIRONDACK TREE EXPERT  41819.444444   \n",
       "                      AGGTRANS                 1660.770000   \n",
       "...                                                    ...   \n",
       "Utilities             WWW.LOGMEIN.COM          1595.183750   \n",
       "                      WWW.SEIDIO.COM           1038.060000   \n",
       "                      XCELTWRCNTR               363.000000   \n",
       "                      ZAGG                      214.586875   \n",
       "                      ZAPEVENT EVENT REG       1200.000000   \n",
       "\n",
       "                                              TRANSACTION_DATE_2  \\\n",
       "                                                             min   \n",
       "GROUP                 VENDOR_NAME                                  \n",
       "Agricultural services ADAMS MORGAN ANIMAL CL 2013-11-21 05:00:00   \n",
       "                      ADAMS MORGAN ANIMAL HO 2009-10-13 04:00:00   \n",
       "                      ADAMS MORGAN ANIMALQPS 2010-10-04 04:00:00   \n",
       "                      ADIRONDACK TREE EXPERT 2012-07-16 04:00:00   \n",
       "                      AGGTRANS               2016-12-09 05:00:00   \n",
       "...                                                          ...   \n",
       "Utilities             WWW.LOGMEIN.COM        2011-10-24 04:00:00   \n",
       "                      WWW.SEIDIO.COM         2009-12-24 05:00:00   \n",
       "                      XCELTWRCNTR            2010-11-02 04:00:00   \n",
       "                      ZAGG                   2011-08-12 04:00:00   \n",
       "                      ZAPEVENT EVENT REG     2014-04-18 04:00:00   \n",
       "\n",
       "                                                                            \\\n",
       "                                                             max time_diff   \n",
       "GROUP                 VENDOR_NAME                                            \n",
       "Agricultural services ADAMS MORGAN ANIMAL CL 2020-10-23 04:00:00      84.0   \n",
       "                      ADAMS MORGAN ANIMAL HO 2012-09-21 04:00:00      36.0   \n",
       "                      ADAMS MORGAN ANIMALQPS 2010-10-12 04:00:00       1.0   \n",
       "                      ADIRONDACK TREE EXPERT 2012-11-08 05:00:00       4.0   \n",
       "                      AGGTRANS               2016-12-12 05:00:00       1.0   \n",
       "...                                                          ...       ...   \n",
       "Utilities             WWW.LOGMEIN.COM        2016-04-14 04:00:00      54.0   \n",
       "                      WWW.SEIDIO.COM         2009-12-24 05:00:00       1.0   \n",
       "                      XCELTWRCNTR            2010-11-23 05:00:00       1.0   \n",
       "                      ZAGG                   2013-03-26 04:00:00      20.0   \n",
       "                      ZAPEVENT EVENT REG     2014-04-18 04:00:00       1.0   \n",
       "\n",
       "                                               THINGS_WE_WANT  \\\n",
       "                                             ORDERS_PER_MONTH   \n",
       "GROUP                 VENDOR_NAME                               \n",
       "Agricultural services ADAMS MORGAN ANIMAL CL         0.297619   \n",
       "                      ADAMS MORGAN ANIMAL HO         0.583333   \n",
       "                      ADAMS MORGAN ANIMALQPS         2.000000   \n",
       "                      ADIRONDACK TREE EXPERT         2.250000   \n",
       "                      AGGTRANS                       3.000000   \n",
       "...                                                       ...   \n",
       "Utilities             WWW.LOGMEIN.COM                0.296296   \n",
       "                      WWW.SEIDIO.COM                 1.000000   \n",
       "                      XCELTWRCNTR                    2.000000   \n",
       "                      ZAGG                           1.600000   \n",
       "                      ZAPEVENT EVENT REG             1.000000   \n",
       "\n",
       "                                                                  \n",
       "                                             NET_MONEY_PER_MONTH  \n",
       "GROUP                 VENDOR_NAME                                 \n",
       "Agricultural services ADAMS MORGAN ANIMAL CL          304.772738  \n",
       "                      ADAMS MORGAN ANIMAL HO          333.052500  \n",
       "                      ADAMS MORGAN ANIMALQPS         1158.400000  \n",
       "                      ADIRONDACK TREE EXPERT        94093.750000  \n",
       "                      AGGTRANS                       4982.310000  \n",
       "...                                                          ...  \n",
       "Utilities             WWW.LOGMEIN.COM                 472.647037  \n",
       "                      WWW.SEIDIO.COM                 1038.060000  \n",
       "                      XCELTWRCNTR                     726.000000  \n",
       "                      ZAGG                            343.339000  \n",
       "                      ZAPEVENT EVENT REG             1200.000000  \n",
       "\n",
       "[39034 rows x 8 columns]"
      ]
     },
     "execution_count": 82,
     "metadata": {},
     "output_type": "execute_result"
    }
   ],
   "source": [
    "new3 = pd.concat([new,new2],axis =1)\n",
    "#number of orders per month\n",
    "new3[\"THINGS_WE_WANT\",\"ORDERS_PER_MONTH\"] = new3[\"TRANSACTION_AMOUNT\",\"count\"]/new3[\"TRANSACTION_DATE_2\",\"time_diff\"]\n",
    "#net money per month\n",
    "new3[\"THINGS_WE_WANT\",\"NET_MONEY_PER_MONTH\"] = new3[\"TRANSACTION_AMOUNT\",\"sum\"]/new3[\"TRANSACTION_DATE_2\",\"time_diff\"]\n",
    "new3"
   ]
  },
  {
   "cell_type": "code",
   "execution_count": 86,
   "metadata": {
    "ExecuteTime": {
     "end_time": "2021-02-06T07:16:53.718077Z",
     "start_time": "2021-02-06T07:16:53.143524Z"
    },
    "scrolled": false
   },
   "outputs": [],
   "source": [
    "new3.to_csv(\"eda_prep.csv\")"
   ]
  },
  {
   "cell_type": "code",
   "execution_count": null,
   "metadata": {},
   "outputs": [],
   "source": []
  }
 ],
 "metadata": {
  "kernelspec": {
   "display_name": "Python 3",
   "language": "python",
   "name": "python3"
  },
  "language_info": {
   "codemirror_mode": {
    "name": "ipython",
    "version": 3
   },
   "file_extension": ".py",
   "mimetype": "text/x-python",
   "name": "python",
   "nbconvert_exporter": "python",
   "pygments_lexer": "ipython3",
   "version": "3.7.3"
  },
  "toc": {
   "base_numbering": 1,
   "nav_menu": {},
   "number_sections": true,
   "sideBar": true,
   "skip_h1_title": false,
   "title_cell": "Table of Contents",
   "title_sidebar": "Contents",
   "toc_cell": false,
   "toc_position": {},
   "toc_section_display": true,
   "toc_window_display": false
  },
  "varInspector": {
   "cols": {
    "lenName": 16,
    "lenType": 16,
    "lenVar": 40
   },
   "kernels_config": {
    "python": {
     "delete_cmd_postfix": "",
     "delete_cmd_prefix": "del ",
     "library": "var_list.py",
     "varRefreshCmd": "print(var_dic_list())"
    },
    "r": {
     "delete_cmd_postfix": ") ",
     "delete_cmd_prefix": "rm(",
     "library": "var_list.r",
     "varRefreshCmd": "cat(var_dic_list()) "
    }
   },
   "types_to_exclude": [
    "module",
    "function",
    "builtin_function_or_method",
    "instance",
    "_Feature"
   ],
   "window_display": false
  }
 },
 "nbformat": 4,
 "nbformat_minor": 2
}
