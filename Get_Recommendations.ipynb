{
 "cells": [
  {
   "cell_type": "code",
   "execution_count": 7,
   "metadata": {},
   "outputs": [],
   "source": [
    "try:\n",
    "    import cPickle as pickle\n",
    "except ImportError:  # Python 3.x\n",
    "    import pickle\n",
    "\n",
    "import pandas as pd\n",
    "import numpy as np\n",
    "from collections import defaultdict"
   ]
  },
  {
   "cell_type": "code",
   "execution_count": 2,
   "metadata": {},
   "outputs": [],
   "source": [
    "transactions = pd.read_csv(\"data_with_groups.csv\")\n",
    "with open('sim_matrix_all.p', 'rb') as fp:\n",
    "    sim_matrix_open = pickle.load(fp)"
   ]
  },
  {
   "cell_type": "code",
   "execution_count": 3,
   "metadata": {},
   "outputs": [],
   "source": [
    "def jmp_rank_vendors(similarity_vector, data, group = None, mcc = None):\n",
    "    '''\n",
    "    similarity_vector must be indexed by agency name!!! :*\n",
    "    '''\n",
    "    rank_dict = defaultdict(int)\n",
    "    if group: data = data[data[\"GROUP\"] == group]\n",
    "    if mcc: data = data[data[\"join_key\"] == mcc]\n",
    "    existing_relationships = data.groupby('AGENCY')['VENDOR_NAME'].apply(set).to_dict()\n",
    "    for agency in similarity_vector.index :\n",
    "        for vendor in existing_relationships[agency]:\n",
    "            rank_dict[vendor] += similarity_vector[agency]*1 #this is where we could \n",
    "            \n",
    "    \n",
    "    return {k: v for k, v in sorted(rank_dict.items(), key=lambda item: item[1], reverse = True)}"
   ]
  },
  {
   "cell_type": "code",
   "execution_count": 12,
   "metadata": {},
   "outputs": [
    {
     "name": "stdout",
     "output_type": "stream",
     "text": [
      "SOUTHWEST : 53.65696543782052\n",
      "AMERICAN AIRLINES : 51.899812699658824\n",
      "DELTA : 49.76677082125979\n",
      "UNITED AIRLINES : 47.027540504927224\n",
      "JETBLUE   27 : 32.505004005374424\n"
     ]
    }
   ],
   "source": [
    "def get_recommendations(agency, group):\n",
    "\n",
    "    recommendations = jmp_rank_vendors(sim_matrix_open[group][agency], transactions, group)\n",
    "    count = 0\n",
    "    for reco in recommendations:\n",
    "        print(str(reco) + \" : \" + str(recommendations[reco]))\n",
    "        count += 1\n",
    "        if count ==5: break\n",
    "    \n",
    "    \n",
    "get_recommendations(\"Office of the Mayor\", \"Airlines\")"
   ]
  },
  {
   "cell_type": "code",
   "execution_count": null,
   "metadata": {},
   "outputs": [],
   "source": []
  }
 ],
 "metadata": {
  "kernelspec": {
   "display_name": "Python 3",
   "language": "python",
   "name": "python3"
  },
  "language_info": {
   "codemirror_mode": {
    "name": "ipython",
    "version": 3
   },
   "file_extension": ".py",
   "mimetype": "text/x-python",
   "name": "python",
   "nbconvert_exporter": "python",
   "pygments_lexer": "ipython3",
   "version": "3.7.1"
  }
 },
 "nbformat": 4,
 "nbformat_minor": 2
}
